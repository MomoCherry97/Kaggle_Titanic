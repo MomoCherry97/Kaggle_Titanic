{
 "cells": [
  {
   "cell_type": "code",
   "execution_count": 1,
   "id": "2cc3387d-c2a9-4ff5-bf17-470051f08fd6",
   "metadata": {},
   "outputs": [],
   "source": [
    "import numpy as np\n",
    "import pandas as pd\n",
    "import sklearn \n",
    "import matplotlib.pyplot as plt\n",
    "import seaborn as sns\n",
    "sns.set()"
   ]
  },
  {
   "cell_type": "markdown",
   "id": "2b56d0e6-4dcb-45c7-8176-cd2b35751653",
   "metadata": {},
   "source": [
    "## Import Our data and check it out"
   ]
  },
  {
   "cell_type": "code",
   "execution_count": 2,
   "id": "a782ae0b-c150-4fd1-95a5-6362b4666e97",
   "metadata": {},
   "outputs": [
    {
     "data": {
      "text/html": [
       "<div>\n",
       "<style scoped>\n",
       "    .dataframe tbody tr th:only-of-type {\n",
       "        vertical-align: middle;\n",
       "    }\n",
       "\n",
       "    .dataframe tbody tr th {\n",
       "        vertical-align: top;\n",
       "    }\n",
       "\n",
       "    .dataframe thead th {\n",
       "        text-align: right;\n",
       "    }\n",
       "</style>\n",
       "<table border=\"1\" class=\"dataframe\">\n",
       "  <thead>\n",
       "    <tr style=\"text-align: right;\">\n",
       "      <th></th>\n",
       "      <th>PassengerId</th>\n",
       "      <th>Survived</th>\n",
       "      <th>Pclass</th>\n",
       "      <th>Name</th>\n",
       "      <th>Sex</th>\n",
       "      <th>Age</th>\n",
       "      <th>SibSp</th>\n",
       "      <th>Parch</th>\n",
       "      <th>Ticket</th>\n",
       "      <th>Fare</th>\n",
       "      <th>Cabin</th>\n",
       "      <th>Embarked</th>\n",
       "    </tr>\n",
       "  </thead>\n",
       "  <tbody>\n",
       "    <tr>\n",
       "      <th>0</th>\n",
       "      <td>1</td>\n",
       "      <td>0</td>\n",
       "      <td>3</td>\n",
       "      <td>Braund, Mr. Owen Harris</td>\n",
       "      <td>male</td>\n",
       "      <td>22.0</td>\n",
       "      <td>1</td>\n",
       "      <td>0</td>\n",
       "      <td>A/5 21171</td>\n",
       "      <td>7.2500</td>\n",
       "      <td>NaN</td>\n",
       "      <td>S</td>\n",
       "    </tr>\n",
       "    <tr>\n",
       "      <th>1</th>\n",
       "      <td>2</td>\n",
       "      <td>1</td>\n",
       "      <td>1</td>\n",
       "      <td>Cumings, Mrs. John Bradley (Florence Briggs Th...</td>\n",
       "      <td>female</td>\n",
       "      <td>38.0</td>\n",
       "      <td>1</td>\n",
       "      <td>0</td>\n",
       "      <td>PC 17599</td>\n",
       "      <td>71.2833</td>\n",
       "      <td>C85</td>\n",
       "      <td>C</td>\n",
       "    </tr>\n",
       "    <tr>\n",
       "      <th>2</th>\n",
       "      <td>3</td>\n",
       "      <td>1</td>\n",
       "      <td>3</td>\n",
       "      <td>Heikkinen, Miss. Laina</td>\n",
       "      <td>female</td>\n",
       "      <td>26.0</td>\n",
       "      <td>0</td>\n",
       "      <td>0</td>\n",
       "      <td>STON/O2. 3101282</td>\n",
       "      <td>7.9250</td>\n",
       "      <td>NaN</td>\n",
       "      <td>S</td>\n",
       "    </tr>\n",
       "    <tr>\n",
       "      <th>3</th>\n",
       "      <td>4</td>\n",
       "      <td>1</td>\n",
       "      <td>1</td>\n",
       "      <td>Futrelle, Mrs. Jacques Heath (Lily May Peel)</td>\n",
       "      <td>female</td>\n",
       "      <td>35.0</td>\n",
       "      <td>1</td>\n",
       "      <td>0</td>\n",
       "      <td>113803</td>\n",
       "      <td>53.1000</td>\n",
       "      <td>C123</td>\n",
       "      <td>S</td>\n",
       "    </tr>\n",
       "    <tr>\n",
       "      <th>4</th>\n",
       "      <td>5</td>\n",
       "      <td>0</td>\n",
       "      <td>3</td>\n",
       "      <td>Allen, Mr. William Henry</td>\n",
       "      <td>male</td>\n",
       "      <td>35.0</td>\n",
       "      <td>0</td>\n",
       "      <td>0</td>\n",
       "      <td>373450</td>\n",
       "      <td>8.0500</td>\n",
       "      <td>NaN</td>\n",
       "      <td>S</td>\n",
       "    </tr>\n",
       "  </tbody>\n",
       "</table>\n",
       "</div>"
      ],
      "text/plain": [
       "   PassengerId  Survived  Pclass  \\\n",
       "0            1         0       3   \n",
       "1            2         1       1   \n",
       "2            3         1       3   \n",
       "3            4         1       1   \n",
       "4            5         0       3   \n",
       "\n",
       "                                                Name     Sex   Age  SibSp  \\\n",
       "0                            Braund, Mr. Owen Harris    male  22.0      1   \n",
       "1  Cumings, Mrs. John Bradley (Florence Briggs Th...  female  38.0      1   \n",
       "2                             Heikkinen, Miss. Laina  female  26.0      0   \n",
       "3       Futrelle, Mrs. Jacques Heath (Lily May Peel)  female  35.0      1   \n",
       "4                           Allen, Mr. William Henry    male  35.0      0   \n",
       "\n",
       "   Parch            Ticket     Fare Cabin Embarked  \n",
       "0      0         A/5 21171   7.2500   NaN        S  \n",
       "1      0          PC 17599  71.2833   C85        C  \n",
       "2      0  STON/O2. 3101282   7.9250   NaN        S  \n",
       "3      0            113803  53.1000  C123        S  \n",
       "4      0            373450   8.0500   NaN        S  "
      ]
     },
     "execution_count": 2,
     "metadata": {},
     "output_type": "execute_result"
    }
   ],
   "source": [
    "raw_data = pd.read_csv('train.csv')\n",
    "raw_data.head()"
   ]
  },
  {
   "cell_type": "markdown",
   "id": "7af93cf1-5921-4940-945f-6e2e8c90b0c5",
   "metadata": {},
   "source": [
    "## Check any missing data"
   ]
  },
  {
   "cell_type": "code",
   "execution_count": 3,
   "id": "9ff444e5-326c-4da1-b538-d36e2135212c",
   "metadata": {},
   "outputs": [
    {
     "data": {
      "text/plain": [
       "PassengerId      0\n",
       "Survived         0\n",
       "Pclass           0\n",
       "Name             0\n",
       "Sex              0\n",
       "Age            177\n",
       "SibSp            0\n",
       "Parch            0\n",
       "Ticket           0\n",
       "Fare             0\n",
       "Cabin          687\n",
       "Embarked         2\n",
       "dtype: int64"
      ]
     },
     "execution_count": 3,
     "metadata": {},
     "output_type": "execute_result"
    }
   ],
   "source": [
    "raw_data.isnull().sum()"
   ]
  },
  {
   "cell_type": "code",
   "execution_count": 4,
   "id": "40725af3-b9bc-4716-8d34-a45ba7803205",
   "metadata": {},
   "outputs": [
    {
     "name": "stdout",
     "output_type": "stream",
     "text": [
      "<class 'pandas.core.frame.DataFrame'>\n",
      "RangeIndex: 891 entries, 0 to 890\n",
      "Data columns (total 12 columns):\n",
      " #   Column       Non-Null Count  Dtype  \n",
      "---  ------       --------------  -----  \n",
      " 0   PassengerId  891 non-null    int64  \n",
      " 1   Survived     891 non-null    int64  \n",
      " 2   Pclass       891 non-null    int64  \n",
      " 3   Name         891 non-null    object \n",
      " 4   Sex          891 non-null    object \n",
      " 5   Age          714 non-null    float64\n",
      " 6   SibSp        891 non-null    int64  \n",
      " 7   Parch        891 non-null    int64  \n",
      " 8   Ticket       891 non-null    object \n",
      " 9   Fare         891 non-null    float64\n",
      " 10  Cabin        204 non-null    object \n",
      " 11  Embarked     889 non-null    object \n",
      "dtypes: float64(2), int64(5), object(5)\n",
      "memory usage: 83.7+ KB\n"
     ]
    }
   ],
   "source": [
    "raw_data.info()"
   ]
  },
  {
   "cell_type": "code",
   "execution_count": 5,
   "id": "c76c646b-30d4-43f6-bd45-0355737b2e1d",
   "metadata": {},
   "outputs": [
    {
     "name": "stderr",
     "output_type": "stream",
     "text": [
      "C:\\Users\\pc\\AppData\\Local\\Temp\\ipykernel_27948\\3849484069.py:9: SettingWithCopyWarning: \n",
      "A value is trying to be set on a copy of a slice from a DataFrame.\n",
      "Try using .loc[row_indexer,col_indexer] = value instead\n",
      "\n",
      "See the caveats in the documentation: https://pandas.pydata.org/pandas-docs/stable/user_guide/indexing.html#returning-a-view-versus-a-copy\n",
      "  cat_data['Survived'] = raw_data['Survived'].copy()\n"
     ]
    }
   ],
   "source": [
    "## Split our data into Columns and Numerical features\n",
    "num_cols = raw_data.select_dtypes(include=['float', 'int']).columns\n",
    "cat_cols = raw_data.select_dtypes(include=['object']).columns\n",
    "## Create dataframes of our features\n",
    "num_data = raw_data[num_cols]\n",
    "cat_data = raw_data[cat_cols]\n",
    "\n",
    "# Add survived to our cat_data\n",
    "cat_data['Survived'] = raw_data['Survived'].copy()"
   ]
  },
  {
   "cell_type": "code",
   "execution_count": 6,
   "id": "b513d407-6ba5-47be-8527-56155aeca41c",
   "metadata": {},
   "outputs": [
    {
     "data": {
      "text/plain": [
       "<AxesSubplot: >"
      ]
     },
     "execution_count": 6,
     "metadata": {},
     "output_type": "execute_result"
    },
    {
     "data": {
      "image/png": "[encoded data removed]",
      "text/plain": [
       "<Figure size 640x480 with 2 Axes>"
      ]
     },
     "metadata": {},
     "output_type": "display_data"
    }
   ],
   "source": [
    "corr = raw_data.corr()\n",
    "sns.heatmap(corr)"
   ]
  },
  {
   "cell_type": "code",
   "execution_count": 7,
   "id": "85429f4e-129f-4e07-a74d-352905fd0468",
   "metadata": {},
   "outputs": [
    {
     "data": {
      "image/png": "[encoded data removed]",
      "text/plain": [
       "<Figure size 800x600 with 1 Axes>"
      ]
     },
     "metadata": {},
     "output_type": "display_data"
    },
    {
     "data": {
      "image/png": "[encoded data removed]",
      "text/plain": [
       "<Figure size 800x600 with 1 Axes>"
      ]
     },
     "metadata": {},
     "output_type": "display_data"
    },
    {
     "data": {
      "image/png": "[encoded data removed]",
      "text/plain": [
       "<Figure size 800x600 with 1 Axes>"
      ]
     },
     "metadata": {},
     "output_type": "display_data"
    },
    {
     "data": {
      "image/png": "[encoded data removed]",
      "text/plain": [
       "<Figure size 800x600 with 1 Axes>"
      ]
     },
     "metadata": {},
     "output_type": "display_data"
    },
    {
     "data": {
      "image/png": "[encoded data removed]",
      "text/plain": [
       "<Figure size 800x600 with 1 Axes>"
      ]
     },
     "metadata": {},
     "output_type": "display_data"
    }
   ],
   "source": [
    "def plot_numerical_features(data):\n",
    "    for col in data.iloc[:,2:].columns:\n",
    "        fig, ax = plt.subplots(figsize=(8,6))\n",
    "        sns.histplot(data[col], ax=ax)\n",
    "        plt.show()\n",
    "plot_numerical_features(num_data)        \n"
   ]
  },
  {
   "cell_type": "markdown",
   "id": "48bb7a0f-3e02-4e8b-b11d-083e36b59299",
   "metadata": {},
   "source": [
    "## Now we will check our Age data distribution"
   ]
  },
  {
   "cell_type": "code",
   "execution_count": 8,
   "id": "bb13932f-0314-4953-b3ad-7c6df583126d",
   "metadata": {},
   "outputs": [
    {
     "data": {
      "text/html": [
       "<div>\n",
       "<style scoped>\n",
       "    .dataframe tbody tr th:only-of-type {\n",
       "        vertical-align: middle;\n",
       "    }\n",
       "\n",
       "    .dataframe tbody tr th {\n",
       "        vertical-align: top;\n",
       "    }\n",
       "\n",
       "    .dataframe thead th {\n",
       "        text-align: right;\n",
       "    }\n",
       "</style>\n",
       "<table border=\"1\" class=\"dataframe\">\n",
       "  <thead>\n",
       "    <tr style=\"text-align: right;\">\n",
       "      <th></th>\n",
       "      <th>Age</th>\n",
       "      <th>Fare</th>\n",
       "      <th>Parch</th>\n",
       "      <th>PassengerId</th>\n",
       "      <th>Pclass</th>\n",
       "      <th>SibSp</th>\n",
       "    </tr>\n",
       "    <tr>\n",
       "      <th>Survived</th>\n",
       "      <th></th>\n",
       "      <th></th>\n",
       "      <th></th>\n",
       "      <th></th>\n",
       "      <th></th>\n",
       "      <th></th>\n",
       "    </tr>\n",
       "  </thead>\n",
       "  <tbody>\n",
       "    <tr>\n",
       "      <th>0</th>\n",
       "      <td>30.626179</td>\n",
       "      <td>22.117887</td>\n",
       "      <td>0.329690</td>\n",
       "      <td>447.016393</td>\n",
       "      <td>2.531876</td>\n",
       "      <td>0.553734</td>\n",
       "    </tr>\n",
       "    <tr>\n",
       "      <th>1</th>\n",
       "      <td>28.343690</td>\n",
       "      <td>48.395408</td>\n",
       "      <td>0.464912</td>\n",
       "      <td>444.368421</td>\n",
       "      <td>1.950292</td>\n",
       "      <td>0.473684</td>\n",
       "    </tr>\n",
       "  </tbody>\n",
       "</table>\n",
       "</div>"
      ],
      "text/plain": [
       "                Age       Fare     Parch  PassengerId    Pclass     SibSp\n",
       "Survived                                                                 \n",
       "0         30.626179  22.117887  0.329690   447.016393  2.531876  0.553734\n",
       "1         28.343690  48.395408  0.464912   444.368421  1.950292  0.473684"
      ]
     },
     "execution_count": 8,
     "metadata": {},
     "output_type": "execute_result"
    }
   ],
   "source": [
    "pd.pivot_table(num_data,index='Survived')\n"
   ]
  },
  {
   "cell_type": "code",
   "execution_count": 10,
   "id": "c029053c-c4a7-46cd-a420-b2aa1d11d6db",
   "metadata": {},
   "outputs": [
    {
     "data": {
      "image/png": "[encoded data removed]",
      "text/plain": [
       "<Figure size 800x600 with 1 Axes>"
      ]
     },
     "metadata": {},
     "output_type": "display_data"
    },
    {
     "data": {
      "image/png": "[encoded data removed]",
      "text/plain": [
       "<Figure size 800x600 with 1 Axes>"
      ]
     },
     "metadata": {},
     "output_type": "display_data"
    },
    {
     "data": {
      "image/png": "[encoded data removed]",
      "text/plain": [
       "<Figure size 800x600 with 1 Axes>"
      ]
     },
     "metadata": {},
     "output_type": "display_data"
    },
    {
     "data": {
      "image/png": "[encoded data removed]",
      "text/plain": [
       "<Figure size 800x600 with 1 Axes>"
      ]
     },
     "metadata": {},
     "output_type": "display_data"
    }
   ],
   "source": [
    "cat_cols = ['Sex', 'Ticket', 'Cabin', 'Embarked']\n",
    "for col in cat_cols:\n",
    "        if cat_data[col].dtype == 'object' and col != 'Survived':\n",
    "            plt.figure(figsize=(8, 6))\n",
    "            sns.barplot(x=col, y='Survived', data=cat_data)\n",
    "            plt.title(f'Survival Rate by {col}')\n",
    "            plt.ylabel('Survival Rate')\n",
    "            plt.show()\n"
   ]
  },
  {
   "cell_type": "code",
   "execution_count": 11,
   "id": "7e50e674-d825-463e-a9db-e76b1470cafa",
   "metadata": {},
   "outputs": [],
   "source": [
    "##Individually check each Numerical feature, missing values first lets deal with those\n",
    "num_data.isnull().sum()\n",
    "data_no_mv = raw_data.copy()\n",
    "data_no_mv.Age = raw_data.Age.fillna(raw_data.Age.median())"
   ]
  },
  {
   "cell_type": "code",
   "execution_count": 12,
   "id": "defb58ad-80dd-4688-961c-5cc0156a910c",
   "metadata": {},
   "outputs": [],
   "source": [
    "cat_data.isnull().sum()\n",
    "cat_data.Embarked.value_counts() ## There is only two missing vbalues for embarked so we will just add them to the Mode which is S\n",
    "data_no_mv['Embarked'].fillna('S',inplace=True)"
   ]
  },
  {
   "cell_type": "code",
   "execution_count": 13,
   "id": "aa4db34e-61af-49ce-a645-4d3499a1b2e2",
   "metadata": {},
   "outputs": [
    {
     "data": {
      "text/plain": [
       "0"
      ]
     },
     "execution_count": 13,
     "metadata": {},
     "output_type": "execute_result"
    }
   ],
   "source": [
    "#Now we will look more at cabn, There is alot of missing values so it doesnt make sense so impute all of them at the moment, we could after taking a deeper analysis of our data but for now we will keep null as a category\n",
    "# First we will use only the cabin letter and drop the Numbers\n",
    "data_no_mv.Cabin.fillna('N0',inplace=True)\n",
    "data_no_mv.Cabin.isnull().sum()"
   ]
  },
  {
   "cell_type": "code",
   "execution_count": 14,
   "id": "315b6fb3-2516-46d7-9ca4-8520188875a2",
   "metadata": {},
   "outputs": [],
   "source": [
    "## Made 2 new columns of the cab char and the char numbers and then we will drop the original cabins\n",
    "data_no_mv['Cab_char']= data_no_mv.Cabin.str[0]\n",
    "# data_no_mv['Cab_num'] = data_no_mv.Cabin.str[1:]\n",
    "data_no_mv = data_no_mv.drop('Cabin', axis=1)\n"
   ]
  },
  {
   "cell_type": "code",
   "execution_count": 15,
   "id": "d3c9271a-df06-4d0d-bda7-035be1ad5c98",
   "metadata": {},
   "outputs": [],
   "source": [
    "# data_no_mv['Cab_num'] = data_no_mv['Cab_num'].str.split().str[0]\n",
    "# data_no_mv['Cab_num'] = pd.to_numeric(data_no_mv['Cab_num'], errors='coerce')\n"
   ]
  },
  {
   "cell_type": "code",
   "execution_count": 17,
   "id": "e5ee798b-c28d-41c0-bba4-5d2d527e912b",
   "metadata": {},
   "outputs": [],
   "source": [
    "# data_no_mv.drop('Cab_num',axis=1,inplace=True)"
   ]
  },
  {
   "cell_type": "code",
   "execution_count": 19,
   "id": "c0898fec-db63-4389-93da-c9b387755869",
   "metadata": {},
   "outputs": [
    {
     "data": {
      "text/plain": [
       "N    687\n",
       "C     59\n",
       "B     47\n",
       "D     33\n",
       "E     32\n",
       "A     15\n",
       "F     13\n",
       "G      4\n",
       "T      1\n",
       "Name: Cab_char, dtype: int64"
      ]
     },
     "execution_count": 19,
     "metadata": {},
     "output_type": "execute_result"
    },
    {
     "data": {
      "image/png": "[encoded data removed]",
      "text/plain": [
       "<Figure size 640x480 with 1 Axes>"
      ]
     },
     "metadata": {},
     "output_type": "display_data"
    }
   ],
   "source": [
    "# Nowe we will plot our cabin and survived to try spot any patterns\n",
    "sns.barplot(x='Cab_char',y='Survived',data = data_no_mv)\n",
    "data_no_mv.Cab_char.value_counts()"
   ]
  },
  {
   "cell_type": "markdown",
   "id": "a4784821-727e-46fd-8881-0b6d5ba253c9",
   "metadata": {},
   "source": [
    "We will be using the None cabin as it seems very impactful to the survival rate"
   ]
  },
  {
   "cell_type": "code",
   "execution_count": 20,
   "id": "5081c49c-b88b-41ce-8048-a6e650fd152e",
   "metadata": {},
   "outputs": [
    {
     "data": {
      "text/plain": [
       "Mr          517\n",
       "Miss        182\n",
       "Mrs         125\n",
       "Master       40\n",
       "Dr            7\n",
       "Rev           6\n",
       "Major         2\n",
       "Mlle          2\n",
       "Col           2\n",
       "Don           1\n",
       "Mme           1\n",
       "Ms            1\n",
       "Lady          1\n",
       "Sir           1\n",
       "Capt          1\n",
       "Jonkheer      1\n",
       "Name: Title, dtype: int64"
      ]
     },
     "execution_count": 20,
     "metadata": {},
     "output_type": "execute_result"
    }
   ],
   "source": [
    "# We will now take a look at the titles from the names\n",
    "data_engineer = data_no_mv.copy()\n",
    "data_engineer['Title'] = data_engineer['Name'].str.extract(r',\\s*([A-Za-z]+)\\.', expand=False)\n",
    "data_engineer.Title.value_counts()\n"
   ]
  },
  {
   "cell_type": "code",
   "execution_count": 21,
   "id": "f0561b21-8833-4bef-bb26-6d1efd5d96bc",
   "metadata": {},
   "outputs": [
    {
     "data": {
      "text/plain": [
       "PassengerId    0\n",
       "Survived       0\n",
       "Pclass         0\n",
       "Name           0\n",
       "Sex            0\n",
       "Age            0\n",
       "SibSp          0\n",
       "Parch          0\n",
       "Ticket         0\n",
       "Fare           0\n",
       "Embarked       0\n",
       "Cab_char       0\n",
       "Title          1\n",
       "dtype: int64"
      ]
     },
     "execution_count": 21,
     "metadata": {},
     "output_type": "execute_result"
    },
    {
     "data": {
      "image/png": "[encoded data removed]",
      "text/plain": [
       "<Figure size 640x480 with 1 Axes>"
      ]
     },
     "metadata": {},
     "output_type": "display_data"
    }
   ],
   "source": [
    "data_engineer.Title.value_counts()\n",
    "titles_dict = {'Mil' : ['Col','Capt','Major'] ,\n",
    "               'Noble':['Sir','Lady','Jonkheer','Don'],\n",
    "               'Miss': ['Miss','Mlle','Mme','Ms','Mrs'],\n",
    "              'Pro' : ['Rev','Dr']\n",
    "              }\n",
    "for keys ,values in titles_dict.items():\n",
    "    data_engineer['Title'] = data_engineer['Title'].replace(values,keys)\n",
    "sns.barplot(x='Title',y='Survived',data = data_engineer)    \n",
    "data_engineer.Title.value_counts()\n",
    "data_engineer.isnull().sum()"
   ]
  },
  {
   "cell_type": "code",
   "execution_count": 24,
   "id": "ccd63294-bcd1-4eb7-85e3-b7ceff81eb71",
   "metadata": {},
   "outputs": [],
   "source": [
    "data_engineer[data_engineer.Title.isnull()] #it seems that our original way of extracting titles didnt do so for The countess so we will add it to the royals/nobles\n",
    "data_engineer.Title.fillna('Noble',inplace=True)\n",
    "\n"
   ]
  },
  {
   "cell_type": "markdown",
   "id": "3d0117c8-1cb6-4030-b33d-2445204e0008",
   "metadata": {
    "tags": []
   },
   "source": [
    "# We can clearly see how signifcant it is Being a Miss/Master as opposed to being a Mr,  My intuition was that military personnel and doctors/religious professions would more likely to die so we will see"
   ]
  },
  {
   "cell_type": "code",
   "execution_count": 25,
   "id": "51139812-2c14-413a-abcd-7305904eb3a0",
   "metadata": {},
   "outputs": [
    {
     "data": {
      "text/plain": [
       "<AxesSubplot: xlabel='Fare', ylabel='Survived'>"
      ]
     },
     "execution_count": 25,
     "metadata": {},
     "output_type": "execute_result"
    },
    {
     "data": {
      "image/png": "[encoded data removed]",
      "text/plain": [
       "<Figure size 640x480 with 1 Axes>"
      ]
     },
     "metadata": {},
     "output_type": "display_data"
    }
   ],
   "source": [
    "sns.scatterplot(x=data_engineer.Fare,y=data_engineer.Survived)"
   ]
  },
  {
   "cell_type": "code",
   "execution_count": 27,
   "id": "d0bb81d8-21dd-4848-87c5-82271fa9b6a9",
   "metadata": {},
   "outputs": [],
   "source": [
    "import scipy.stats as stats\n",
    "def clip_outliers(df, column, mode='zscore', threshold=3):\n",
    "    data = df[column]\n",
    "    if mode == 'zscore':\n",
    "        z = np.abs(stats.zscore(data))\n",
    "        df[column] = np.where(z > threshold, np.sign(data)*threshold, data)\n",
    "    elif mode == 'iqr':\n",
    "        q1 = data.quantile(0.25)\n",
    "        q3 = data.quantile(0.75)\n",
    "        iqr = q3 - q1\n",
    "        lower = q1 - threshold*iqr\n",
    "        upper = q3 + threshold*iqr\n",
    "        df[column] = np.where(data < lower, lower, np.where(data > upper, upper, data))\n",
    "    elif mode == 'quantile':\n",
    "        lower = data.quantile(threshold)\n",
    "        upper = data.quantile(1-threshold)\n",
    "        df[column] = np.where(data < lower, lower, np.where(data > upper, upper, data))\n",
    "    else:\n",
    "        print(\"Invalid mode. Please choose either 'zscore', 'iqr', or 'quantile'.\")\n"
   ]
  },
  {
   "cell_type": "code",
   "execution_count": 28,
   "id": "5e3b0c1c-061f-4d3d-9f30-d1deae8f1ed2",
   "metadata": {},
   "outputs": [],
   "source": [
    "copy_1 = data_engineer.copy()\n",
    "\n"
   ]
  },
  {
   "cell_type": "code",
   "execution_count": 57,
   "id": "89801322-0eec-481f-af1c-37cdcc53e9c8",
   "metadata": {},
   "outputs": [
    {
     "data": {
      "text/plain": [
       "PassengerId    0\n",
       "Survived       0\n",
       "Pclass         0\n",
       "Sex            0\n",
       "Age            0\n",
       "SibSp          0\n",
       "Parch          0\n",
       "Ticket         0\n",
       "Fare           0\n",
       "Embarked       0\n",
       "Cab_char       0\n",
       "Title          0\n",
       "dtype: int64"
      ]
     },
     "execution_count": 57,
     "metadata": {},
     "output_type": "execute_result"
    }
   ],
   "source": [
    "clip_outliers(data_engineer,column='Fare',mode='iqr')\n",
    "data_engineer.isnull().sum()"
   ]
  },
  {
   "cell_type": "code",
   "execution_count": 62,
   "id": "e1e67247-0e38-42ab-9220-b72e6ea904d3",
   "metadata": {},
   "outputs": [
    {
     "data": {
      "image/png": "[encoded data removed]",
      "text/plain": [
       "<Figure size 640x480 with 1 Axes>"
      ]
     },
     "metadata": {},
     "output_type": "display_data"
    }
   ],
   "source": [
    "# sns.scatterplot(x=data_engineer.Age,y=data_engineer.Survived)\n",
    "# clip_outliers(data_engineer,column='Age')\n",
    "data_engineer.Age.plot.hist()\n",
    "data_engineer.drop('Ticket',inplace=True,axis=1)"
   ]
  },
  {
   "cell_type": "code",
   "execution_count": 63,
   "id": "0ff2d514-ac58-404d-ad6b-e82657533a69",
   "metadata": {},
   "outputs": [
    {
     "data": {
      "text/html": [
       "<div>\n",
       "<style scoped>\n",
       "    .dataframe tbody tr th:only-of-type {\n",
       "        vertical-align: middle;\n",
       "    }\n",
       "\n",
       "    .dataframe tbody tr th {\n",
       "        vertical-align: top;\n",
       "    }\n",
       "\n",
       "    .dataframe thead th {\n",
       "        text-align: right;\n",
       "    }\n",
       "</style>\n",
       "<table border=\"1\" class=\"dataframe\">\n",
       "  <thead>\n",
       "    <tr style=\"text-align: right;\">\n",
       "      <th></th>\n",
       "      <th>PassengerId</th>\n",
       "      <th>Survived</th>\n",
       "      <th>Pclass</th>\n",
       "      <th>Sex</th>\n",
       "      <th>Age</th>\n",
       "      <th>SibSp</th>\n",
       "      <th>Parch</th>\n",
       "      <th>Fare</th>\n",
       "      <th>Embarked</th>\n",
       "      <th>Cab_char</th>\n",
       "      <th>Title</th>\n",
       "    </tr>\n",
       "  </thead>\n",
       "  <tbody>\n",
       "    <tr>\n",
       "      <th>count</th>\n",
       "      <td>891.000000</td>\n",
       "      <td>891.000000</td>\n",
       "      <td>891.000000</td>\n",
       "      <td>891</td>\n",
       "      <td>891.000000</td>\n",
       "      <td>891.000000</td>\n",
       "      <td>891.000000</td>\n",
       "      <td>891.000000</td>\n",
       "      <td>891</td>\n",
       "      <td>891</td>\n",
       "      <td>891</td>\n",
       "    </tr>\n",
       "    <tr>\n",
       "      <th>unique</th>\n",
       "      <td>NaN</td>\n",
       "      <td>NaN</td>\n",
       "      <td>NaN</td>\n",
       "      <td>2</td>\n",
       "      <td>NaN</td>\n",
       "      <td>NaN</td>\n",
       "      <td>NaN</td>\n",
       "      <td>NaN</td>\n",
       "      <td>3</td>\n",
       "      <td>9</td>\n",
       "      <td>6</td>\n",
       "    </tr>\n",
       "    <tr>\n",
       "      <th>top</th>\n",
       "      <td>NaN</td>\n",
       "      <td>NaN</td>\n",
       "      <td>NaN</td>\n",
       "      <td>male</td>\n",
       "      <td>NaN</td>\n",
       "      <td>NaN</td>\n",
       "      <td>NaN</td>\n",
       "      <td>NaN</td>\n",
       "      <td>S</td>\n",
       "      <td>N</td>\n",
       "      <td>Mr</td>\n",
       "    </tr>\n",
       "    <tr>\n",
       "      <th>freq</th>\n",
       "      <td>NaN</td>\n",
       "      <td>NaN</td>\n",
       "      <td>NaN</td>\n",
       "      <td>577</td>\n",
       "      <td>NaN</td>\n",
       "      <td>NaN</td>\n",
       "      <td>NaN</td>\n",
       "      <td>NaN</td>\n",
       "      <td>646</td>\n",
       "      <td>687</td>\n",
       "      <td>517</td>\n",
       "    </tr>\n",
       "    <tr>\n",
       "      <th>mean</th>\n",
       "      <td>446.000000</td>\n",
       "      <td>0.383838</td>\n",
       "      <td>2.308642</td>\n",
       "      <td>NaN</td>\n",
       "      <td>28.816689</td>\n",
       "      <td>0.523008</td>\n",
       "      <td>0.381594</td>\n",
       "      <td>27.043158</td>\n",
       "      <td>NaN</td>\n",
       "      <td>NaN</td>\n",
       "      <td>NaN</td>\n",
       "    </tr>\n",
       "    <tr>\n",
       "      <th>std</th>\n",
       "      <td>257.353842</td>\n",
       "      <td>0.486592</td>\n",
       "      <td>0.836071</td>\n",
       "      <td>NaN</td>\n",
       "      <td>12.651172</td>\n",
       "      <td>1.102743</td>\n",
       "      <td>0.806057</td>\n",
       "      <td>27.339465</td>\n",
       "      <td>NaN</td>\n",
       "      <td>NaN</td>\n",
       "      <td>NaN</td>\n",
       "    </tr>\n",
       "    <tr>\n",
       "      <th>min</th>\n",
       "      <td>1.000000</td>\n",
       "      <td>0.000000</td>\n",
       "      <td>1.000000</td>\n",
       "      <td>NaN</td>\n",
       "      <td>0.420000</td>\n",
       "      <td>0.000000</td>\n",
       "      <td>0.000000</td>\n",
       "      <td>0.000000</td>\n",
       "      <td>NaN</td>\n",
       "      <td>NaN</td>\n",
       "      <td>NaN</td>\n",
       "    </tr>\n",
       "    <tr>\n",
       "      <th>25%</th>\n",
       "      <td>223.500000</td>\n",
       "      <td>0.000000</td>\n",
       "      <td>2.000000</td>\n",
       "      <td>NaN</td>\n",
       "      <td>22.000000</td>\n",
       "      <td>0.000000</td>\n",
       "      <td>0.000000</td>\n",
       "      <td>7.910400</td>\n",
       "      <td>NaN</td>\n",
       "      <td>NaN</td>\n",
       "      <td>NaN</td>\n",
       "    </tr>\n",
       "    <tr>\n",
       "      <th>50%</th>\n",
       "      <td>446.000000</td>\n",
       "      <td>0.000000</td>\n",
       "      <td>3.000000</td>\n",
       "      <td>NaN</td>\n",
       "      <td>28.000000</td>\n",
       "      <td>0.000000</td>\n",
       "      <td>0.000000</td>\n",
       "      <td>14.454200</td>\n",
       "      <td>NaN</td>\n",
       "      <td>NaN</td>\n",
       "      <td>NaN</td>\n",
       "    </tr>\n",
       "    <tr>\n",
       "      <th>75%</th>\n",
       "      <td>668.500000</td>\n",
       "      <td>1.000000</td>\n",
       "      <td>3.000000</td>\n",
       "      <td>NaN</td>\n",
       "      <td>35.000000</td>\n",
       "      <td>1.000000</td>\n",
       "      <td>0.000000</td>\n",
       "      <td>31.000000</td>\n",
       "      <td>NaN</td>\n",
       "      <td>NaN</td>\n",
       "      <td>NaN</td>\n",
       "    </tr>\n",
       "    <tr>\n",
       "      <th>max</th>\n",
       "      <td>891.000000</td>\n",
       "      <td>1.000000</td>\n",
       "      <td>3.000000</td>\n",
       "      <td>NaN</td>\n",
       "      <td>66.000000</td>\n",
       "      <td>8.000000</td>\n",
       "      <td>6.000000</td>\n",
       "      <td>100.268800</td>\n",
       "      <td>NaN</td>\n",
       "      <td>NaN</td>\n",
       "      <td>NaN</td>\n",
       "    </tr>\n",
       "  </tbody>\n",
       "</table>\n",
       "</div>"
      ],
      "text/plain": [
       "        PassengerId    Survived      Pclass   Sex         Age       SibSp  \\\n",
       "count    891.000000  891.000000  891.000000   891  891.000000  891.000000   \n",
       "unique          NaN         NaN         NaN     2         NaN         NaN   \n",
       "top             NaN         NaN         NaN  male         NaN         NaN   \n",
       "freq            NaN         NaN         NaN   577         NaN         NaN   \n",
       "mean     446.000000    0.383838    2.308642   NaN   28.816689    0.523008   \n",
       "std      257.353842    0.486592    0.836071   NaN   12.651172    1.102743   \n",
       "min        1.000000    0.000000    1.000000   NaN    0.420000    0.000000   \n",
       "25%      223.500000    0.000000    2.000000   NaN   22.000000    0.000000   \n",
       "50%      446.000000    0.000000    3.000000   NaN   28.000000    0.000000   \n",
       "75%      668.500000    1.000000    3.000000   NaN   35.000000    1.000000   \n",
       "max      891.000000    1.000000    3.000000   NaN   66.000000    8.000000   \n",
       "\n",
       "             Parch        Fare Embarked Cab_char Title  \n",
       "count   891.000000  891.000000      891      891   891  \n",
       "unique         NaN         NaN        3        9     6  \n",
       "top            NaN         NaN        S        N    Mr  \n",
       "freq           NaN         NaN      646      687   517  \n",
       "mean      0.381594   27.043158      NaN      NaN   NaN  \n",
       "std       0.806057   27.339465      NaN      NaN   NaN  \n",
       "min       0.000000    0.000000      NaN      NaN   NaN  \n",
       "25%       0.000000    7.910400      NaN      NaN   NaN  \n",
       "50%       0.000000   14.454200      NaN      NaN   NaN  \n",
       "75%       0.000000   31.000000      NaN      NaN   NaN  \n",
       "max       6.000000  100.268800      NaN      NaN   NaN  "
      ]
     },
     "execution_count": 63,
     "metadata": {},
     "output_type": "execute_result"
    }
   ],
   "source": [
    "data_no_outliers = data_engineer.copy()\n",
    "data_engineer.describe(include='all')\n",
    "\n"
   ]
  },
  {
   "cell_type": "markdown",
   "id": "95a9f009-9b8e-4cd8-9782-91245da5d7cd",
   "metadata": {},
   "source": [
    "## Scaling Function"
   ]
  },
  {
   "cell_type": "markdown",
   "id": "3fcd015d-6ad8-4a9e-b4c4-5b069ecd4c4a",
   "metadata": {},
   "source": [
    "Now we will create a function that will scale the columns we give, we dont need to scale all our columns we only need to scale some of them Age,Fare we are creating a function as to make it easier while changing our model"
   ]
  },
  {
   "cell_type": "code",
   "execution_count": 64,
   "id": "ff4d6f1e-dd87-4ca8-b0f5-17f310b97292",
   "metadata": {},
   "outputs": [],
   "source": [
    "from sklearn.preprocessing import StandardScaler, MinMaxScaler, RobustScaler\n",
    "\n",
    "def scale_dataframe_columns(df, columns, method='standard'):\n",
    "    \"\"\"\n",
    "    Scales the specified columns of a pandas DataFrame using one of the scaling methods available in sklearn.\n",
    "\n",
    "    Parameters:\n",
    "        df (pandas.DataFrame): The input DataFrame.\n",
    "        columns (list of str): The names of the columns to scale.\n",
    "        method (str, optional): The scaling method to use. Must be one of 'standard', 'minmax', or 'robust'. Default is 'standard'.\n",
    "\n",
    "    Returns:\n",
    "        pandas.DataFrame: The scaled DataFrame.\n",
    "    \"\"\"\n",
    "    df_new = df.copy()\n",
    "    scaler = None\n",
    "    if method == 'standard':\n",
    "        scaler = StandardScaler()\n",
    "    elif method == 'minmax':\n",
    "        scaler = MinMaxScaler()\n",
    "    elif method == 'robust':\n",
    "        scaler = RobustScaler()\n",
    "    else:\n",
    "        raise ValueError(f\"Unknown scaling method '{method}'\")\n",
    "\n",
    "    scaled_data = scaler.fit_transform(df[columns])\n",
    "    df_new[columns] = scaled_data\n",
    "\n",
    "    return df_new\n"
   ]
  },
  {
   "cell_type": "code",
   "execution_count": 65,
   "id": "f81e0821-1a87-48ae-81c1-4afbb70c8eab",
   "metadata": {},
   "outputs": [],
   "source": [
    "scaled_dataframe = scale_dataframe_columns(data_no_outliers,columns=['Age','Fare'],method='standard')"
   ]
  },
  {
   "cell_type": "code",
   "execution_count": 67,
   "id": "7ea4d8bc-e3b5-423a-9a9d-00d4bc19bd5d",
   "metadata": {},
   "outputs": [
    {
     "data": {
      "text/plain": [
       "<AxesSubplot: ylabel='Frequency'>"
      ]
     },
     "execution_count": 67,
     "metadata": {},
     "output_type": "execute_result"
    },
    {
     "data": {
      "image/png": "[encoded data removed]",
      "text/plain": [
       "<Figure size 640x480 with 1 Axes>"
      ]
     },
     "metadata": {},
     "output_type": "display_data"
    }
   ],
   "source": [
    "scaled_dataframe.Age.plot.hist()"
   ]
  },
  {
   "cell_type": "code",
   "execution_count": 68,
   "id": "7dba8161-4df6-4291-9bcd-8821cc6451ab",
   "metadata": {},
   "outputs": [],
   "source": [
    "inputs = scaled_dataframe.drop(columns=['PassengerId','Survived'])\n",
    "targets = scaled_dataframe['Survived']"
   ]
  },
  {
   "cell_type": "code",
   "execution_count": 69,
   "id": "3e918d80-f6f1-42fe-b70a-02afa3490ee3",
   "metadata": {},
   "outputs": [
    {
     "data": {
      "text/html": [
       "<div>\n",
       "<style scoped>\n",
       "    .dataframe tbody tr th:only-of-type {\n",
       "        vertical-align: middle;\n",
       "    }\n",
       "\n",
       "    .dataframe tbody tr th {\n",
       "        vertical-align: top;\n",
       "    }\n",
       "\n",
       "    .dataframe thead th {\n",
       "        text-align: right;\n",
       "    }\n",
       "</style>\n",
       "<table border=\"1\" class=\"dataframe\">\n",
       "  <thead>\n",
       "    <tr style=\"text-align: right;\">\n",
       "      <th></th>\n",
       "      <th>Pclass</th>\n",
       "      <th>Age</th>\n",
       "      <th>SibSp</th>\n",
       "      <th>Parch</th>\n",
       "      <th>Fare</th>\n",
       "      <th>Embarked_Q</th>\n",
       "      <th>Embarked_S</th>\n",
       "      <th>Cab_char_B</th>\n",
       "      <th>Cab_char_C</th>\n",
       "      <th>Cab_char_D</th>\n",
       "      <th>...</th>\n",
       "      <th>Cab_char_F</th>\n",
       "      <th>Cab_char_G</th>\n",
       "      <th>Cab_char_N</th>\n",
       "      <th>Cab_char_T</th>\n",
       "      <th>Title_Mil</th>\n",
       "      <th>Title_Miss</th>\n",
       "      <th>Title_Mr</th>\n",
       "      <th>Title_Noble</th>\n",
       "      <th>Title_Pro</th>\n",
       "      <th>Sex_male</th>\n",
       "    </tr>\n",
       "  </thead>\n",
       "  <tbody>\n",
       "    <tr>\n",
       "      <th>0</th>\n",
       "      <td>3</td>\n",
       "      <td>-0.539121</td>\n",
       "      <td>1</td>\n",
       "      <td>0</td>\n",
       "      <td>-0.724384</td>\n",
       "      <td>0</td>\n",
       "      <td>1</td>\n",
       "      <td>0</td>\n",
       "      <td>0</td>\n",
       "      <td>0</td>\n",
       "      <td>...</td>\n",
       "      <td>0</td>\n",
       "      <td>0</td>\n",
       "      <td>1</td>\n",
       "      <td>0</td>\n",
       "      <td>0</td>\n",
       "      <td>0</td>\n",
       "      <td>1</td>\n",
       "      <td>0</td>\n",
       "      <td>0</td>\n",
       "      <td>1</td>\n",
       "    </tr>\n",
       "    <tr>\n",
       "      <th>1</th>\n",
       "      <td>1</td>\n",
       "      <td>0.726294</td>\n",
       "      <td>1</td>\n",
       "      <td>0</td>\n",
       "      <td>1.619088</td>\n",
       "      <td>0</td>\n",
       "      <td>0</td>\n",
       "      <td>0</td>\n",
       "      <td>1</td>\n",
       "      <td>0</td>\n",
       "      <td>...</td>\n",
       "      <td>0</td>\n",
       "      <td>0</td>\n",
       "      <td>0</td>\n",
       "      <td>0</td>\n",
       "      <td>0</td>\n",
       "      <td>1</td>\n",
       "      <td>0</td>\n",
       "      <td>0</td>\n",
       "      <td>0</td>\n",
       "      <td>0</td>\n",
       "    </tr>\n",
       "    <tr>\n",
       "      <th>2</th>\n",
       "      <td>3</td>\n",
       "      <td>-0.222768</td>\n",
       "      <td>0</td>\n",
       "      <td>0</td>\n",
       "      <td>-0.699681</td>\n",
       "      <td>0</td>\n",
       "      <td>1</td>\n",
       "      <td>0</td>\n",
       "      <td>0</td>\n",
       "      <td>0</td>\n",
       "      <td>...</td>\n",
       "      <td>0</td>\n",
       "      <td>0</td>\n",
       "      <td>1</td>\n",
       "      <td>0</td>\n",
       "      <td>0</td>\n",
       "      <td>1</td>\n",
       "      <td>0</td>\n",
       "      <td>0</td>\n",
       "      <td>0</td>\n",
       "      <td>0</td>\n",
       "    </tr>\n",
       "    <tr>\n",
       "      <th>3</th>\n",
       "      <td>1</td>\n",
       "      <td>0.489028</td>\n",
       "      <td>1</td>\n",
       "      <td>0</td>\n",
       "      <td>0.953621</td>\n",
       "      <td>0</td>\n",
       "      <td>1</td>\n",
       "      <td>0</td>\n",
       "      <td>1</td>\n",
       "      <td>0</td>\n",
       "      <td>...</td>\n",
       "      <td>0</td>\n",
       "      <td>0</td>\n",
       "      <td>0</td>\n",
       "      <td>0</td>\n",
       "      <td>0</td>\n",
       "      <td>1</td>\n",
       "      <td>0</td>\n",
       "      <td>0</td>\n",
       "      <td>0</td>\n",
       "      <td>0</td>\n",
       "    </tr>\n",
       "    <tr>\n",
       "      <th>4</th>\n",
       "      <td>3</td>\n",
       "      <td>0.489028</td>\n",
       "      <td>0</td>\n",
       "      <td>0</td>\n",
       "      <td>-0.695106</td>\n",
       "      <td>0</td>\n",
       "      <td>1</td>\n",
       "      <td>0</td>\n",
       "      <td>0</td>\n",
       "      <td>0</td>\n",
       "      <td>...</td>\n",
       "      <td>0</td>\n",
       "      <td>0</td>\n",
       "      <td>1</td>\n",
       "      <td>0</td>\n",
       "      <td>0</td>\n",
       "      <td>0</td>\n",
       "      <td>1</td>\n",
       "      <td>0</td>\n",
       "      <td>0</td>\n",
       "      <td>1</td>\n",
       "    </tr>\n",
       "    <tr>\n",
       "      <th>...</th>\n",
       "      <td>...</td>\n",
       "      <td>...</td>\n",
       "      <td>...</td>\n",
       "      <td>...</td>\n",
       "      <td>...</td>\n",
       "      <td>...</td>\n",
       "      <td>...</td>\n",
       "      <td>...</td>\n",
       "      <td>...</td>\n",
       "      <td>...</td>\n",
       "      <td>...</td>\n",
       "      <td>...</td>\n",
       "      <td>...</td>\n",
       "      <td>...</td>\n",
       "      <td>...</td>\n",
       "      <td>...</td>\n",
       "      <td>...</td>\n",
       "      <td>...</td>\n",
       "      <td>...</td>\n",
       "      <td>...</td>\n",
       "      <td>...</td>\n",
       "    </tr>\n",
       "    <tr>\n",
       "      <th>886</th>\n",
       "      <td>2</td>\n",
       "      <td>-0.143679</td>\n",
       "      <td>0</td>\n",
       "      <td>0</td>\n",
       "      <td>-0.513947</td>\n",
       "      <td>0</td>\n",
       "      <td>1</td>\n",
       "      <td>0</td>\n",
       "      <td>0</td>\n",
       "      <td>0</td>\n",
       "      <td>...</td>\n",
       "      <td>0</td>\n",
       "      <td>0</td>\n",
       "      <td>1</td>\n",
       "      <td>0</td>\n",
       "      <td>0</td>\n",
       "      <td>0</td>\n",
       "      <td>0</td>\n",
       "      <td>0</td>\n",
       "      <td>1</td>\n",
       "      <td>1</td>\n",
       "    </tr>\n",
       "    <tr>\n",
       "      <th>887</th>\n",
       "      <td>1</td>\n",
       "      <td>-0.776387</td>\n",
       "      <td>0</td>\n",
       "      <td>0</td>\n",
       "      <td>0.108214</td>\n",
       "      <td>0</td>\n",
       "      <td>1</td>\n",
       "      <td>1</td>\n",
       "      <td>0</td>\n",
       "      <td>0</td>\n",
       "      <td>...</td>\n",
       "      <td>0</td>\n",
       "      <td>0</td>\n",
       "      <td>0</td>\n",
       "      <td>0</td>\n",
       "      <td>0</td>\n",
       "      <td>1</td>\n",
       "      <td>0</td>\n",
       "      <td>0</td>\n",
       "      <td>0</td>\n",
       "      <td>0</td>\n",
       "    </tr>\n",
       "    <tr>\n",
       "      <th>888</th>\n",
       "      <td>3</td>\n",
       "      <td>-0.064591</td>\n",
       "      <td>1</td>\n",
       "      <td>2</td>\n",
       "      <td>-0.131501</td>\n",
       "      <td>0</td>\n",
       "      <td>1</td>\n",
       "      <td>0</td>\n",
       "      <td>0</td>\n",
       "      <td>0</td>\n",
       "      <td>...</td>\n",
       "      <td>0</td>\n",
       "      <td>0</td>\n",
       "      <td>1</td>\n",
       "      <td>0</td>\n",
       "      <td>0</td>\n",
       "      <td>1</td>\n",
       "      <td>0</td>\n",
       "      <td>0</td>\n",
       "      <td>0</td>\n",
       "      <td>0</td>\n",
       "    </tr>\n",
       "    <tr>\n",
       "      <th>889</th>\n",
       "      <td>1</td>\n",
       "      <td>-0.222768</td>\n",
       "      <td>0</td>\n",
       "      <td>0</td>\n",
       "      <td>0.108214</td>\n",
       "      <td>0</td>\n",
       "      <td>0</td>\n",
       "      <td>0</td>\n",
       "      <td>1</td>\n",
       "      <td>0</td>\n",
       "      <td>...</td>\n",
       "      <td>0</td>\n",
       "      <td>0</td>\n",
       "      <td>0</td>\n",
       "      <td>0</td>\n",
       "      <td>0</td>\n",
       "      <td>0</td>\n",
       "      <td>1</td>\n",
       "      <td>0</td>\n",
       "      <td>0</td>\n",
       "      <td>1</td>\n",
       "    </tr>\n",
       "    <tr>\n",
       "      <th>890</th>\n",
       "      <td>3</td>\n",
       "      <td>0.251763</td>\n",
       "      <td>0</td>\n",
       "      <td>0</td>\n",
       "      <td>-0.706085</td>\n",
       "      <td>1</td>\n",
       "      <td>0</td>\n",
       "      <td>0</td>\n",
       "      <td>0</td>\n",
       "      <td>0</td>\n",
       "      <td>...</td>\n",
       "      <td>0</td>\n",
       "      <td>0</td>\n",
       "      <td>1</td>\n",
       "      <td>0</td>\n",
       "      <td>0</td>\n",
       "      <td>0</td>\n",
       "      <td>1</td>\n",
       "      <td>0</td>\n",
       "      <td>0</td>\n",
       "      <td>1</td>\n",
       "    </tr>\n",
       "  </tbody>\n",
       "</table>\n",
       "<p>891 rows × 21 columns</p>\n",
       "</div>"
      ],
      "text/plain": [
       "     Pclass       Age  SibSp  Parch      Fare  Embarked_Q  Embarked_S  \\\n",
       "0         3 -0.539121      1      0 -0.724384           0           1   \n",
       "1         1  0.726294      1      0  1.619088           0           0   \n",
       "2         3 -0.222768      0      0 -0.699681           0           1   \n",
       "3         1  0.489028      1      0  0.953621           0           1   \n",
       "4         3  0.489028      0      0 -0.695106           0           1   \n",
       "..      ...       ...    ...    ...       ...         ...         ...   \n",
       "886       2 -0.143679      0      0 -0.513947           0           1   \n",
       "887       1 -0.776387      0      0  0.108214           0           1   \n",
       "888       3 -0.064591      1      2 -0.131501           0           1   \n",
       "889       1 -0.222768      0      0  0.108214           0           0   \n",
       "890       3  0.251763      0      0 -0.706085           1           0   \n",
       "\n",
       "     Cab_char_B  Cab_char_C  Cab_char_D  ...  Cab_char_F  Cab_char_G  \\\n",
       "0             0           0           0  ...           0           0   \n",
       "1             0           1           0  ...           0           0   \n",
       "2             0           0           0  ...           0           0   \n",
       "3             0           1           0  ...           0           0   \n",
       "4             0           0           0  ...           0           0   \n",
       "..          ...         ...         ...  ...         ...         ...   \n",
       "886           0           0           0  ...           0           0   \n",
       "887           1           0           0  ...           0           0   \n",
       "888           0           0           0  ...           0           0   \n",
       "889           0           1           0  ...           0           0   \n",
       "890           0           0           0  ...           0           0   \n",
       "\n",
       "     Cab_char_N  Cab_char_T  Title_Mil  Title_Miss  Title_Mr  Title_Noble  \\\n",
       "0             1           0          0           0         1            0   \n",
       "1             0           0          0           1         0            0   \n",
       "2             1           0          0           1         0            0   \n",
       "3             0           0          0           1         0            0   \n",
       "4             1           0          0           0         1            0   \n",
       "..          ...         ...        ...         ...       ...          ...   \n",
       "886           1           0          0           0         0            0   \n",
       "887           0           0          0           1         0            0   \n",
       "888           1           0          0           1         0            0   \n",
       "889           0           0          0           0         1            0   \n",
       "890           1           0          0           0         1            0   \n",
       "\n",
       "     Title_Pro  Sex_male  \n",
       "0            0         1  \n",
       "1            0         0  \n",
       "2            0         0  \n",
       "3            0         0  \n",
       "4            0         1  \n",
       "..         ...       ...  \n",
       "886          1         1  \n",
       "887          0         0  \n",
       "888          0         0  \n",
       "889          0         1  \n",
       "890          0         1  \n",
       "\n",
       "[891 rows x 21 columns]"
      ]
     },
     "execution_count": 69,
     "metadata": {},
     "output_type": "execute_result"
    }
   ],
   "source": [
    "inputs_dummies = pd.get_dummies(columns=['Embarked','Cab_char','Title','Sex'],drop_first=True,data=inputs)\n",
    "inputs_dummies"
   ]
  },
  {
   "cell_type": "markdown",
   "id": "7982a3e8-0dc2-493d-8104-e7b644e030a5",
   "metadata": {},
   "source": [
    "## Train/dev split our model "
   ]
  },
  {
   "cell_type": "code",
   "execution_count": 100,
   "id": "708fbe1b-582f-4cb3-a724-becc1dde9421",
   "metadata": {},
   "outputs": [],
   "source": [
    "from sklearn.model_selection import train_test_split\n",
    "x_train, x_test , y_train , y_test = train_test_split(inputs_dummies,targets,test_size=0.2)"
   ]
  },
  {
   "cell_type": "markdown",
   "id": "73f654f1-3ec3-49e3-a4ef-3c580176a530",
   "metadata": {},
   "source": [
    "## Create a function that will evaluate a model and return Accuracy and confusion matrix"
   ]
  },
  {
   "cell_type": "code",
   "execution_count": 104,
   "id": "b7ab06eb-d160-43f5-bf34-45e659222916",
   "metadata": {},
   "outputs": [],
   "source": [
    "from sklearn.metrics import accuracy_score, confusion_matrix, ConfusionMatrixDisplay , f1_score\n",
    "from sklearn.linear_model import LogisticRegression\n",
    "from sklearn.ensemble import RandomForestClassifier\n",
    "from sklearn.naive_bayes import GaussianNB\n",
    "from sklearn.neighbors import KNeighborsClassifier\n",
    "from sklearn.svm import SVC\n",
    "\n",
    "def evaluate_model(x_train, x_test, y_train, y_test, model):\n",
    "    # fit the model to the training data\n",
    "    model.fit(x_train, y_train)\n",
    "    \n",
    "    # make predictions on the test data\n",
    "    y_pred = model.predict(x_test)\n",
    "    \n",
    "    # calculate accuracy score\n",
    "    accuracy = accuracy_score(y_test, y_pred)\n",
    "    \n",
    "    # calculate confusion matrix\n",
    "    cm = confusion_matrix(y_test, y_pred)\n",
    "    \n",
    "    # # plot confusion matrix\n",
    "    # disp = ConfusionMatrixDisplay(confusion_matrix=cm)\n",
    "    # disp.plot()\n",
    "    f1 = f1_score(y_test,y_pred)\n",
    "    # return accuracy and confusion matrix\n",
    "    return accuracy, cm , f1\n"
   ]
  },
  {
   "cell_type": "markdown",
   "id": "e52d2d33-0aa6-4db2-a4f7-53eacdd8b207",
   "metadata": {},
   "source": [
    "## Create the list of  the models that we would like to evaluate and loop through them printing out the CM and their relative accuracy"
   ]
  },
  {
   "cell_type": "code",
   "execution_count": 108,
   "id": "da031026-8564-4cf7-af20-13f0e0210160",
   "metadata": {},
   "outputs": [
    {
     "name": "stdout",
     "output_type": "stream",
     "text": [
      "LogisticRegression\n",
      "Accuracy: 0.8603351955307262 F1_Score: 0.8226950354609929\n",
      "Confusion Matrix:\n",
      " [[96 10]\n",
      " [15 58]]\n",
      "================================================================================\n",
      "RandomForestClassifier\n",
      "Accuracy: 0.8379888268156425 F1_Score: 0.8\n",
      "Confusion Matrix:\n",
      " [[92 14]\n",
      " [15 58]]\n",
      "================================================================================\n",
      "GaussianNB\n",
      "Accuracy: 0.776536312849162 F1_Score: 0.7183098591549297\n",
      "Confusion Matrix:\n",
      " [[88 18]\n",
      " [22 51]]\n",
      "================================================================================\n",
      "KNeighborsClassifier\n",
      "Accuracy: 0.8100558659217877 F1_Score: 0.7500000000000001\n",
      "Confusion Matrix:\n",
      " [[94 12]\n",
      " [22 51]]\n",
      "================================================================================\n",
      "SVC\n",
      "Accuracy: 0.8491620111731844 F1_Score: 0.8029197080291972\n",
      "Confusion Matrix:\n",
      " [[97  9]\n",
      " [18 55]]\n",
      "================================================================================\n"
     ]
    },
    {
     "name": "stderr",
     "output_type": "stream",
     "text": [
      "C:\\Users\\pc\\anaconda3\\lib\\site-packages\\sklearn\\neighbors\\_classification.py:228: FutureWarning: Unlike other reduction functions (e.g. `skew`, `kurtosis`), the default behavior of `mode` typically preserves the axis it acts along. In SciPy 1.11.0, this behavior will change: the default value of `keepdims` will become False, the `axis` over which the statistic is taken will be eliminated, and the value None will no longer be accepted. Set `keepdims` to True or False to avoid this warning.\n",
      "  mode, _ = stats.mode(_y[neigh_ind, k], axis=1)\n"
     ]
    }
   ],
   "source": [
    "# create a list of models to evaluate\n",
    "models = [\n",
    "    LogisticRegression(),\n",
    "    RandomForestClassifier(),\n",
    "    GaussianNB(),\n",
    "    KNeighborsClassifier(7),\n",
    "    SVC()\n",
    "]\n",
    "\n",
    "# iterate through the list of models and evaluate each one\n",
    "for model in models:\n",
    "    accuracy, cm,f1 = evaluate_model(x_train, x_test, y_train, y_test,model)\n",
    "    print(model.__class__.__name__)\n",
    "    print(\"Accuracy:\", accuracy,\"F1_Score:\", f1)\n",
    "    print(\"Confusion Matrix:\\n\", cm)\n",
    "    print(\"=\"*80)\n"
   ]
  },
  {
   "cell_type": "markdown",
   "id": "a0ccc734-80c4-411d-b048-cc5edb8197a0",
   "metadata": {},
   "source": [
    "Trying a Hard voting Classifier "
   ]
  },
  {
   "cell_type": "code",
   "execution_count": 87,
   "id": "f6acc312-8c00-491c-9cb5-e35b450cacc7",
   "metadata": {},
   "outputs": [
    {
     "name": "stdout",
     "output_type": "stream",
     "text": [
      "Hard Voting Accuracy: 0.8212290502793296\n"
     ]
    },
    {
     "name": "stderr",
     "output_type": "stream",
     "text": [
      "C:\\Users\\pc\\anaconda3\\lib\\site-packages\\sklearn\\neighbors\\_classification.py:228: FutureWarning: Unlike other reduction functions (e.g. `skew`, `kurtosis`), the default behavior of `mode` typically preserves the axis it acts along. In SciPy 1.11.0, this behavior will change: the default value of `keepdims` will become False, the `axis` over which the statistic is taken will be eliminated, and the value None will no longer be accepted. Set `keepdims` to True or False to avoid this warning.\n",
      "  mode, _ = stats.mode(_y[neigh_ind, k], axis=1)\n"
     ]
    }
   ],
   "source": [
    "from sklearn.ensemble import VotingClassifier\n",
    "from sklearn.tree import DecisionTreeClassifier\n",
    "\n",
    "\n",
    "# create a list of models to include in the ensemble\n",
    "models = [\n",
    "    ('log_reg', LogisticRegression()),\n",
    "    ('dt', DecisionTreeClassifier()),\n",
    "    ('knn', KNeighborsClassifier())\n",
    "]\n",
    "\n",
    "# create the ensemble model with hard voting\n",
    "hard_voting_model = VotingClassifier(estimators=models, voting='hard')\n",
    "\n",
    "# fit the model to the training data and make predictions on the test data\n",
    "hard_voting_model.fit(x_train, y_train)\n",
    "y_pred_hard = hard_voting_model.predict(x_test)\n",
    "\n",
    "# calculate accuracy score\n",
    "accuracy_hard = accuracy_score(y_test, y_pred_hard)\n",
    "\n",
    "# print the accuracy score\n",
    "print(\"Hard Voting Accuracy:\", accuracy_hard)\n"
   ]
  },
  {
   "cell_type": "markdown",
   "id": "f6c89304-a3fb-4cd4-97a8-78129f111abd",
   "metadata": {},
   "source": [
    "Trying a soft voting classifer"
   ]
  },
  {
   "cell_type": "code",
   "execution_count": 88,
   "id": "1ffcccbd-702c-421a-a070-a1930744fe01",
   "metadata": {},
   "outputs": [
    {
     "name": "stdout",
     "output_type": "stream",
     "text": [
      "Soft Voting Accuracy: 0.8100558659217877\n"
     ]
    }
   ],
   "source": [
    "# create a list of models to include in the ensemble\n",
    "models = [\n",
    "    ('log_reg', LogisticRegression()),\n",
    "    ('knn', KNeighborsClassifier())\n",
    "]\n",
    "\n",
    "# create the ensemble model with soft voting\n",
    "soft_voting_model = VotingClassifier(estimators=models, voting='soft')\n",
    "\n",
    "# fit the model to the training data and make predictions on the test data\n",
    "soft_voting_model.fit(x_train, y_train)\n",
    "y_pred_soft = soft_voting_model.predict(x_test)\n",
    "\n",
    "# calculate accuracy score\n",
    "accuracy_soft = accuracy_score(y_test, y_pred_soft)\n",
    "\n",
    "# print the accuracy score\n",
    "print(\"Soft Voting Accuracy:\", accuracy_soft)\n"
   ]
  },
  {
   "cell_type": "markdown",
   "id": "4374c711-8b0f-408a-b92f-8e8ec95eb3ba",
   "metadata": {},
   "source": [
    "## Possible Improvments to be done"
   ]
  },
  {
   "cell_type": "markdown",
   "id": "80217cb7-d009-4fb6-adc6-132763695c1e",
   "metadata": {},
   "source": [
    "# Feature Engineering \n",
    "    Create a family variable\n",
    "    2-Look more closely at cabin numbers or ticket numbers and see if they are important\n",
    "    3- Create new feature to do with age*Class\n",
    "# Different outlier techniques    \n",
    "# Transformation/Scaling of Fare feature.    \n",
    "# Use cross Validation to choose better hyper parameters"
   ]
  },
  {
   "cell_type": "markdown",
   "id": "1a39e9e0-c75c-4a65-a6ba-da3d259de90c",
   "metadata": {},
   "source": [
    "We will now import our test set and perform the same preprocessing as the train data\n"
   ]
  },
  {
   "cell_type": "code",
   "execution_count": 129,
   "id": "575445e9-f8c9-4999-b152-5106f252c44e",
   "metadata": {},
   "outputs": [
    {
     "data": {
      "text/html": [
       "<div>\n",
       "<style scoped>\n",
       "    .dataframe tbody tr th:only-of-type {\n",
       "        vertical-align: middle;\n",
       "    }\n",
       "\n",
       "    .dataframe tbody tr th {\n",
       "        vertical-align: top;\n",
       "    }\n",
       "\n",
       "    .dataframe thead th {\n",
       "        text-align: right;\n",
       "    }\n",
       "</style>\n",
       "<table border=\"1\" class=\"dataframe\">\n",
       "  <thead>\n",
       "    <tr style=\"text-align: right;\">\n",
       "      <th></th>\n",
       "      <th>PassengerId</th>\n",
       "      <th>Pclass</th>\n",
       "      <th>Name</th>\n",
       "      <th>Sex</th>\n",
       "      <th>Age</th>\n",
       "      <th>SibSp</th>\n",
       "      <th>Parch</th>\n",
       "      <th>Ticket</th>\n",
       "      <th>Fare</th>\n",
       "      <th>Cabin</th>\n",
       "      <th>Embarked</th>\n",
       "    </tr>\n",
       "  </thead>\n",
       "  <tbody>\n",
       "    <tr>\n",
       "      <th>0</th>\n",
       "      <td>892</td>\n",
       "      <td>3</td>\n",
       "      <td>Kelly, Mr. James</td>\n",
       "      <td>male</td>\n",
       "      <td>34.5</td>\n",
       "      <td>0</td>\n",
       "      <td>0</td>\n",
       "      <td>330911</td>\n",
       "      <td>7.8292</td>\n",
       "      <td>NaN</td>\n",
       "      <td>Q</td>\n",
       "    </tr>\n",
       "    <tr>\n",
       "      <th>1</th>\n",
       "      <td>893</td>\n",
       "      <td>3</td>\n",
       "      <td>Wilkes, Mrs. James (Ellen Needs)</td>\n",
       "      <td>female</td>\n",
       "      <td>47.0</td>\n",
       "      <td>1</td>\n",
       "      <td>0</td>\n",
       "      <td>363272</td>\n",
       "      <td>7.0000</td>\n",
       "      <td>NaN</td>\n",
       "      <td>S</td>\n",
       "    </tr>\n",
       "    <tr>\n",
       "      <th>2</th>\n",
       "      <td>894</td>\n",
       "      <td>2</td>\n",
       "      <td>Myles, Mr. Thomas Francis</td>\n",
       "      <td>male</td>\n",
       "      <td>62.0</td>\n",
       "      <td>0</td>\n",
       "      <td>0</td>\n",
       "      <td>240276</td>\n",
       "      <td>9.6875</td>\n",
       "      <td>NaN</td>\n",
       "      <td>Q</td>\n",
       "    </tr>\n",
       "    <tr>\n",
       "      <th>3</th>\n",
       "      <td>895</td>\n",
       "      <td>3</td>\n",
       "      <td>Wirz, Mr. Albert</td>\n",
       "      <td>male</td>\n",
       "      <td>27.0</td>\n",
       "      <td>0</td>\n",
       "      <td>0</td>\n",
       "      <td>315154</td>\n",
       "      <td>8.6625</td>\n",
       "      <td>NaN</td>\n",
       "      <td>S</td>\n",
       "    </tr>\n",
       "    <tr>\n",
       "      <th>4</th>\n",
       "      <td>896</td>\n",
       "      <td>3</td>\n",
       "      <td>Hirvonen, Mrs. Alexander (Helga E Lindqvist)</td>\n",
       "      <td>female</td>\n",
       "      <td>22.0</td>\n",
       "      <td>1</td>\n",
       "      <td>1</td>\n",
       "      <td>3101298</td>\n",
       "      <td>12.2875</td>\n",
       "      <td>NaN</td>\n",
       "      <td>S</td>\n",
       "    </tr>\n",
       "  </tbody>\n",
       "</table>\n",
       "</div>"
      ],
      "text/plain": [
       "   PassengerId  Pclass                                          Name     Sex  \\\n",
       "0          892       3                              Kelly, Mr. James    male   \n",
       "1          893       3              Wilkes, Mrs. James (Ellen Needs)  female   \n",
       "2          894       2                     Myles, Mr. Thomas Francis    male   \n",
       "3          895       3                              Wirz, Mr. Albert    male   \n",
       "4          896       3  Hirvonen, Mrs. Alexander (Helga E Lindqvist)  female   \n",
       "\n",
       "    Age  SibSp  Parch   Ticket     Fare Cabin Embarked  \n",
       "0  34.5      0      0   330911   7.8292   NaN        Q  \n",
       "1  47.0      1      0   363272   7.0000   NaN        S  \n",
       "2  62.0      0      0   240276   9.6875   NaN        Q  \n",
       "3  27.0      0      0   315154   8.6625   NaN        S  \n",
       "4  22.0      1      1  3101298  12.2875   NaN        S  "
      ]
     },
     "execution_count": 129,
     "metadata": {},
     "output_type": "execute_result"
    }
   ],
   "source": [
    "test_raw = pd.read_csv('test.csv')\n",
    "test_raw.head()"
   ]
  },
  {
   "cell_type": "markdown",
   "id": "332264a8-4e4a-49ed-9744-70aff02a5c09",
   "metadata": {},
   "source": [
    "## Deal with missing values"
   ]
  },
  {
   "cell_type": "code",
   "execution_count": 130,
   "id": "9b18af01-1d67-47bc-b46b-0df557407a50",
   "metadata": {},
   "outputs": [],
   "source": [
    "test_raw.isnull().sum()\n",
    "test_raw.Age.fillna(raw_data.Age.median(),inplace=True)\n",
    "test_raw.Cabin.fillna('N',inplace=True)\n",
    "test_raw.Fare.fillna(test_raw.Fare.median(),inplace=True)"
   ]
  },
  {
   "cell_type": "markdown",
   "id": "77d96255-7d82-411a-8c50-97b2846920a5",
   "metadata": {},
   "source": [
    "## Preproccess our data"
   ]
  },
  {
   "cell_type": "code",
   "execution_count": 132,
   "id": "6cdda18e-d1da-4885-b357-8f21531005e8",
   "metadata": {},
   "outputs": [
    {
     "data": {
      "text/plain": [
       "Mr        240\n",
       "Miss       78\n",
       "Mrs        72\n",
       "Master     21\n",
       "Col         2\n",
       "Rev         2\n",
       "Ms          1\n",
       "Dr          1\n",
       "Dona        1\n",
       "Name: Title, dtype: int64"
      ]
     },
     "execution_count": 132,
     "metadata": {},
     "output_type": "execute_result"
    }
   ],
   "source": [
    "test_no_mv = test_raw.copy()\n",
    "test_engineer= test_no_mv.copy()\n",
    "test_engineer['Cab_char']= test_engineer.Cabin.str[0]\n",
    "test_engineer['Title'] = test_engineer['Name'].str.extract(r',\\s*([A-Za-z]+)\\.', expand=False)\n",
    "test_engineer.Title.value_counts()\n",
    "\n",
    "\n"
   ]
  },
  {
   "cell_type": "code",
   "execution_count": 141,
   "id": "3c82b2f5-c7e0-4283-aecf-a263b9882214",
   "metadata": {},
   "outputs": [
    {
     "data": {
      "text/plain": [
       "Mr        240\n",
       "Miss      151\n",
       "Master     21\n",
       "Pro         3\n",
       "Mil         2\n",
       "Noble       1\n",
       "Name: Title, dtype: int64"
      ]
     },
     "execution_count": 141,
     "metadata": {},
     "output_type": "execute_result"
    }
   ],
   "source": [
    "titles_test_dict = {'Mil' : ['Col','Capt','Major'] ,\n",
    "               'Noble':['Sir','Lady','Jonkheer','Don','Dona'],\n",
    "               'Miss': ['Miss','Mlle','Mme','Ms','Mrs'],\n",
    "              'Pro' : ['Rev','Dr']\n",
    "              }\n",
    "for keys ,values in titles_test_dict.items():\n",
    "    test_engineer['Title'] = test_engineer['Title'].replace(values,keys)\n",
    "test_engineer.Title.value_counts()\n"
   ]
  },
  {
   "cell_type": "code",
   "execution_count": 145,
   "id": "32bf4a33-c880-48bb-9a05-f01dfd372b8a",
   "metadata": {},
   "outputs": [],
   "source": [
    "test_engineer.head()\n",
    "# test_engineer.drop(columns=['Cabin','Name','Ticket'],inplace=True)"
   ]
  },
  {
   "cell_type": "code",
   "execution_count": 154,
   "id": "16af829c-b1f5-4b24-a7a0-593af8a328b6",
   "metadata": {},
   "outputs": [],
   "source": [
    "clip_outliers(test_engineer,column='Fare',mode='iqr')\n",
    "clip_outliers(test_engineer,column='Age')"
   ]
  },
  {
   "cell_type": "code",
   "execution_count": 156,
   "id": "39a4314f-17ea-40fa-8917-efec9e94a9ef",
   "metadata": {},
   "outputs": [],
   "source": [
    "scaled_test_dataframe = scale_dataframe_columns(test_engineer,columns=['Age','Fare'],method='standard')"
   ]
  },
  {
   "cell_type": "code",
   "execution_count": 164,
   "id": "d2e5be71-f36d-46e5-a742-ab83c75eb15f",
   "metadata": {},
   "outputs": [],
   "source": [
    "test_inputs = scaled_test_dataframe.drop(columns=['PassengerId'])\n"
   ]
  },
  {
   "cell_type": "code",
   "execution_count": 166,
   "id": "b6a29634-ee48-4edb-8663-563ac5c9c860",
   "metadata": {},
   "outputs": [
    {
     "data": {
      "text/html": [
       "<div>\n",
       "<style scoped>\n",
       "    .dataframe tbody tr th:only-of-type {\n",
       "        vertical-align: middle;\n",
       "    }\n",
       "\n",
       "    .dataframe tbody tr th {\n",
       "        vertical-align: top;\n",
       "    }\n",
       "\n",
       "    .dataframe thead th {\n",
       "        text-align: right;\n",
       "    }\n",
       "</style>\n",
       "<table border=\"1\" class=\"dataframe\">\n",
       "  <thead>\n",
       "    <tr style=\"text-align: right;\">\n",
       "      <th></th>\n",
       "      <th>Pclass</th>\n",
       "      <th>Age</th>\n",
       "      <th>SibSp</th>\n",
       "      <th>Parch</th>\n",
       "      <th>Fare</th>\n",
       "      <th>Embarked_Q</th>\n",
       "      <th>Embarked_S</th>\n",
       "      <th>Cab_char_B</th>\n",
       "      <th>Cab_char_C</th>\n",
       "      <th>Cab_char_D</th>\n",
       "      <th>Cab_char_E</th>\n",
       "      <th>Cab_char_F</th>\n",
       "      <th>Cab_char_G</th>\n",
       "      <th>Cab_char_N</th>\n",
       "      <th>Title_Mil</th>\n",
       "      <th>Title_Miss</th>\n",
       "      <th>Title_Mr</th>\n",
       "      <th>Title_Noble</th>\n",
       "      <th>Title_Pro</th>\n",
       "      <th>Sex_male</th>\n",
       "    </tr>\n",
       "  </thead>\n",
       "  <tbody>\n",
       "    <tr>\n",
       "      <th>0</th>\n",
       "      <td>3</td>\n",
       "      <td>0.389038</td>\n",
       "      <td>0</td>\n",
       "      <td>0</td>\n",
       "      <td>-0.702736</td>\n",
       "      <td>1</td>\n",
       "      <td>0</td>\n",
       "      <td>0</td>\n",
       "      <td>0</td>\n",
       "      <td>0</td>\n",
       "      <td>0</td>\n",
       "      <td>0</td>\n",
       "      <td>0</td>\n",
       "      <td>1</td>\n",
       "      <td>0</td>\n",
       "      <td>0</td>\n",
       "      <td>1</td>\n",
       "      <td>0</td>\n",
       "      <td>0</td>\n",
       "      <td>1</td>\n",
       "    </tr>\n",
       "    <tr>\n",
       "      <th>1</th>\n",
       "      <td>3</td>\n",
       "      <td>1.387676</td>\n",
       "      <td>1</td>\n",
       "      <td>0</td>\n",
       "      <td>-0.731694</td>\n",
       "      <td>0</td>\n",
       "      <td>1</td>\n",
       "      <td>0</td>\n",
       "      <td>0</td>\n",
       "      <td>0</td>\n",
       "      <td>0</td>\n",
       "      <td>0</td>\n",
       "      <td>0</td>\n",
       "      <td>1</td>\n",
       "      <td>0</td>\n",
       "      <td>1</td>\n",
       "      <td>0</td>\n",
       "      <td>0</td>\n",
       "      <td>0</td>\n",
       "      <td>0</td>\n",
       "    </tr>\n",
       "    <tr>\n",
       "      <th>2</th>\n",
       "      <td>2</td>\n",
       "      <td>2.586040</td>\n",
       "      <td>0</td>\n",
       "      <td>0</td>\n",
       "      <td>-0.637839</td>\n",
       "      <td>1</td>\n",
       "      <td>0</td>\n",
       "      <td>0</td>\n",
       "      <td>0</td>\n",
       "      <td>0</td>\n",
       "      <td>0</td>\n",
       "      <td>0</td>\n",
       "      <td>0</td>\n",
       "      <td>1</td>\n",
       "      <td>0</td>\n",
       "      <td>0</td>\n",
       "      <td>1</td>\n",
       "      <td>0</td>\n",
       "      <td>0</td>\n",
       "      <td>1</td>\n",
       "    </tr>\n",
       "    <tr>\n",
       "      <th>3</th>\n",
       "      <td>3</td>\n",
       "      <td>-0.210144</td>\n",
       "      <td>0</td>\n",
       "      <td>0</td>\n",
       "      <td>-0.673635</td>\n",
       "      <td>0</td>\n",
       "      <td>1</td>\n",
       "      <td>0</td>\n",
       "      <td>0</td>\n",
       "      <td>0</td>\n",
       "      <td>0</td>\n",
       "      <td>0</td>\n",
       "      <td>0</td>\n",
       "      <td>1</td>\n",
       "      <td>0</td>\n",
       "      <td>0</td>\n",
       "      <td>1</td>\n",
       "      <td>0</td>\n",
       "      <td>0</td>\n",
       "      <td>1</td>\n",
       "    </tr>\n",
       "    <tr>\n",
       "      <th>4</th>\n",
       "      <td>3</td>\n",
       "      <td>-0.609599</td>\n",
       "      <td>1</td>\n",
       "      <td>1</td>\n",
       "      <td>-0.547041</td>\n",
       "      <td>0</td>\n",
       "      <td>1</td>\n",
       "      <td>0</td>\n",
       "      <td>0</td>\n",
       "      <td>0</td>\n",
       "      <td>0</td>\n",
       "      <td>0</td>\n",
       "      <td>0</td>\n",
       "      <td>1</td>\n",
       "      <td>0</td>\n",
       "      <td>1</td>\n",
       "      <td>0</td>\n",
       "      <td>0</td>\n",
       "      <td>0</td>\n",
       "      <td>0</td>\n",
       "    </tr>\n",
       "  </tbody>\n",
       "</table>\n",
       "</div>"
      ],
      "text/plain": [
       "   Pclass       Age  SibSp  Parch      Fare  Embarked_Q  Embarked_S  \\\n",
       "0       3  0.389038      0      0 -0.702736           1           0   \n",
       "1       3  1.387676      1      0 -0.731694           0           1   \n",
       "2       2  2.586040      0      0 -0.637839           1           0   \n",
       "3       3 -0.210144      0      0 -0.673635           0           1   \n",
       "4       3 -0.609599      1      1 -0.547041           0           1   \n",
       "\n",
       "   Cab_char_B  Cab_char_C  Cab_char_D  Cab_char_E  Cab_char_F  Cab_char_G  \\\n",
       "0           0           0           0           0           0           0   \n",
       "1           0           0           0           0           0           0   \n",
       "2           0           0           0           0           0           0   \n",
       "3           0           0           0           0           0           0   \n",
       "4           0           0           0           0           0           0   \n",
       "\n",
       "   Cab_char_N  Title_Mil  Title_Miss  Title_Mr  Title_Noble  Title_Pro  \\\n",
       "0           1          0           0         1            0          0   \n",
       "1           1          0           1         0            0          0   \n",
       "2           1          0           0         1            0          0   \n",
       "3           1          0           0         1            0          0   \n",
       "4           1          0           1         0            0          0   \n",
       "\n",
       "   Sex_male  \n",
       "0         1  \n",
       "1         0  \n",
       "2         1  \n",
       "3         1  \n",
       "4         0  "
      ]
     },
     "execution_count": 166,
     "metadata": {},
     "output_type": "execute_result"
    }
   ],
   "source": [
    "test_dummies = pd.get_dummies(test_inputs,columns=['Embarked','Cab_char','Title','Sex'],drop_first=True)\n",
    "test_dummies.head()"
   ]
  },
  {
   "cell_type": "code",
   "execution_count": 167,
   "id": "e7a2885e-2b6f-41d3-bb3b-791812a13786",
   "metadata": {},
   "outputs": [
    {
     "data": {
      "text/plain": [
       "((418, 20), (891, 21))"
      ]
     },
     "execution_count": 167,
     "metadata": {},
     "output_type": "execute_result"
    }
   ],
   "source": [
    "test_dummies.shape, inputs_dummies.shape"
   ]
  },
  {
   "cell_type": "code",
   "execution_count": 171,
   "id": "09b6735b-0bec-460c-b878-b9604be8664f",
   "metadata": {},
   "outputs": [
    {
     "data": {
      "text/plain": [
       "Index(['Pclass', 'Age', 'SibSp', 'Parch', 'Fare', 'Embarked_Q', 'Embarked_S',\n",
       "       'Cab_char_B', 'Cab_char_C', 'Cab_char_D', 'Cab_char_E', 'Cab_char_F',\n",
       "       'Cab_char_G', 'Cab_char_N', 'Cab_char_T', 'Title_Mil', 'Title_Miss',\n",
       "       'Title_Mr', 'Title_Noble', 'Title_Pro', 'Sex_male'],\n",
       "      dtype='object')"
      ]
     },
     "execution_count": 171,
     "metadata": {},
     "output_type": "execute_result"
    }
   ],
   "source": [
    "inputs_dummies.columns"
   ]
  },
  {
   "cell_type": "code",
   "execution_count": 170,
   "id": "94ccaff8-e560-47a7-8f9e-df984d4cada8",
   "metadata": {},
   "outputs": [
    {
     "data": {
      "text/plain": [
       "Index(['Pclass', 'Age', 'SibSp', 'Parch', 'Fare', 'Embarked_Q', 'Embarked_S',\n",
       "       'Cab_char_B', 'Cab_char_C', 'Cab_char_D', 'Cab_char_E', 'Cab_char_F',\n",
       "       'Cab_char_G', 'Cab_char_N', 'Title_Mil', 'Title_Miss', 'Title_Mr',\n",
       "       'Title_Noble', 'Title_Pro', 'Sex_male'],\n",
       "      dtype='object')"
      ]
     },
     "execution_count": 170,
     "metadata": {},
     "output_type": "execute_result"
    }
   ],
   "source": [
    "test_dummies.columns"
   ]
  },
  {
   "cell_type": "code",
   "execution_count": 172,
   "id": "af51121e-2d3e-45ac-b780-c9d3ab89ddf0",
   "metadata": {},
   "outputs": [],
   "source": [
    "test_dummies['Cab_char_T'] = 0"
   ]
  },
  {
   "cell_type": "code",
   "execution_count": 174,
   "id": "2fa84f22-177a-41e1-864c-a8f14a5853ec",
   "metadata": {},
   "outputs": [],
   "source": [
    "test_dummies.columns = ['Pclass', 'Age', 'SibSp', 'Parch', 'Fare', 'Embarked_Q', 'Embarked_S',\n",
    "       'Cab_char_B', 'Cab_char_C', 'Cab_char_D', 'Cab_char_E', 'Cab_char_F',\n",
    "       'Cab_char_G', 'Cab_char_N', 'Cab_char_T', 'Title_Mil', 'Title_Miss',\n",
    "       'Title_Mr', 'Title_Noble', 'Title_Pro', 'Sex_male']"
   ]
  },
  {
   "cell_type": "code",
   "execution_count": 177,
   "id": "fa8b9c41-6310-49ca-b1e3-acd95d20f527",
   "metadata": {},
   "outputs": [],
   "source": [
    "logistic_test_df = pd.DataFrame({'PassengerId':test_raw.PassengerId})"
   ]
  },
  {
   "cell_type": "code",
   "execution_count": 179,
   "id": "e6b3e104-f89d-4921-8057-f1eca7bd1da7",
   "metadata": {},
   "outputs": [],
   "source": [
    "log_reg = LogisticRegression()\n",
    "log_reg.fit(inputs_dummies,targets)\n",
    "log_pred = log_reg.predict(test_dummies)"
   ]
  },
  {
   "cell_type": "code",
   "execution_count": 181,
   "id": "fa967ecd-f06e-46e0-b52b-9426cb3653b5",
   "metadata": {},
   "outputs": [],
   "source": [
    "logistic_test_df['Survived'] = log_pred"
   ]
  },
  {
   "cell_type": "code",
   "execution_count": 188,
   "id": "401a3954-c680-4874-b88a-6c350bd08717",
   "metadata": {},
   "outputs": [
    {
     "name": "stderr",
     "output_type": "stream",
     "text": [
      "C:\\Users\\pc\\anaconda3\\lib\\site-packages\\sklearn\\neighbors\\_classification.py:228: FutureWarning: Unlike other reduction functions (e.g. `skew`, `kurtosis`), the default behavior of `mode` typically preserves the axis it acts along. In SciPy 1.11.0, this behavior will change: the default value of `keepdims` will become False, the `axis` over which the statistic is taken will be eliminated, and the value None will no longer be accepted. Set `keepdims` to True or False to avoid this warning.\n",
      "  mode, _ = stats.mode(_y[neigh_ind, k], axis=1)\n"
     ]
    }
   ],
   "source": [
    "# Create a dataframe to store the test predictions\n",
    "test_df = pd.DataFrame({'PassengerId': test_raw['PassengerId']})\n",
    "\n",
    "# Train and test multiple classification models\n",
    "models = {\n",
    "    'Random Forest': RandomForestClassifier(),\n",
    "    'Naive Bayes': GaussianNB(),\n",
    "    'K-Nearest Neighbors': KNeighborsClassifier(),\n",
    "    'Support Vector Machine': SVC()\n",
    "}\n",
    "\n",
    "for name, model in models.items():\n",
    "    # Train the model\n",
    "    model.fit(inputs_dummies, targets)\n",
    "    \n",
    "    # Make predictions on the test set\n",
    "    predictions = model.predict(test_dummies)\n",
    "    \n",
    "    # Store the predictions in a dataframe\n",
    "    test_df['Survived'] = predictions\n",
    "\n",
    "    # Save the test predictions to a file\n",
    "    test_df.to_csv(str(name)+'.csv', index=False)\n"
   ]
  },
  {
   "cell_type": "code",
   "execution_count": 185,
   "id": "071bd977-b86d-4421-a221-54862cd57d5c",
   "metadata": {},
   "outputs": [],
   "source": [
    "logistic_test_df.to_csv('logistic_test.csv',index=False)"
   ]
  },
  {
   "cell_type": "code",
   "execution_count": null,
   "id": "63d45da9-9607-409e-b6f8-654e27dfcfb3",
   "metadata": {},
   "outputs": [],
   "source": []
  }
 ],
 "metadata": {
  "kernelspec": {
   "display_name": "Python 3 (ipykernel)",
   "language": "python",
   "name": "python3"
  },
  "language_info": {
   "codemirror_mode": {
    "name": "ipython",
    "version": 3
   },
   "file_extension": ".py",
   "mimetype": "text/x-python",
   "name": "python",
   "nbconvert_exporter": "python",
   "pygments_lexer": "ipython3",
   "version": "3.9.15"
  }
 },
 "nbformat": 4,
 "nbformat_minor": 5
}
